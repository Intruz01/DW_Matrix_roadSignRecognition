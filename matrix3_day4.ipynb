{
  "nbformat": 4,
  "nbformat_minor": 0,
  "metadata": {
    "colab": {
      "name": "matrix3_day4.ipynb",
      "provenance": [],
      "collapsed_sections": [],
      "mount_file_id": "1ik8XOkPMGKg-s0L5fS3VIoNIc388gbD5",
      "authorship_tag": "ABX9TyODRSJ6BXaZ6IpJusHKFzch",
      "include_colab_link": true
    },
    "kernelspec": {
      "name": "python3",
      "display_name": "Python 3"
    },
    "accelerator": "GPU"
  },
  "cells": [
    {
      "cell_type": "markdown",
      "metadata": {
        "id": "view-in-github",
        "colab_type": "text"
      },
      "source": [
        "<a href=\"https://colab.research.google.com/github/Intruz01/DW_Matrix_roadSignRecognition/blob/master/matrix3_day4.ipynb\" target=\"_parent\"><img src=\"https://colab.research.google.com/assets/colab-badge.svg\" alt=\"Open In Colab\"/></a>"
      ]
    },
    {
      "cell_type": "code",
      "metadata": {
        "id": "nvjLPatzQqXN",
        "colab_type": "code",
        "outputId": "d25be7ec-08a1-4fe3-b982-68d959f0068f",
        "colab": {
          "base_uri": "https://localhost:8080/",
          "height": 34
        }
      },
      "source": [
        "cd \"/content/drive/My Drive/Colab Notebooks/Matrix/Matrix_three_road_signs_recognition/DW_Matrix_roadSignRecognition\""
      ],
      "execution_count": 0,
      "outputs": [
        {
          "output_type": "stream",
          "text": [
            "/content/drive/My Drive/Colab Notebooks/Matrix/Matrix_three_road_signs_recognition/DW_Matrix_roadSignRecognition\n"
          ],
          "name": "stdout"
        }
      ]
    },
    {
      "cell_type": "code",
      "metadata": {
        "id": "NL3mfL7dRtyd",
        "colab_type": "code",
        "outputId": "0103c15d-9895-4ab0-e7f8-04e669f93121",
        "colab": {
          "base_uri": "https://localhost:8080/",
          "height": 51
        }
      },
      "source": [
        "import pandas as pd\n",
        "import numpy as np\n",
        "import os\n",
        "import datetime\n",
        "\n",
        "import tensorflow as tf\n",
        "from tensorflow.keras.models import Sequential\n",
        "from tensorflow.keras.layers import Conv2D, MaxPool2D, Dense, Flatten, Dropout\n",
        "from tensorflow.keras.utils import to_categorical\n",
        "\n",
        "%load_ext tensorboard\n",
        "\n",
        "import matplotlib.pyplot as plt\n",
        "from skimage import color, exposure\n",
        "\n",
        "from sklearn.metrics import accuracy_score"
      ],
      "execution_count": 0,
      "outputs": [
        {
          "output_type": "stream",
          "text": [
            "The tensorboard extension is already loaded. To reload it, use:\n",
            "  %reload_ext tensorboard\n"
          ],
          "name": "stdout"
        }
      ]
    },
    {
      "cell_type": "code",
      "metadata": {
        "id": "GdbcbBzoRu_M",
        "colab_type": "code",
        "colab": {}
      },
      "source": [
        "train = pd.read_pickle('data/train.p')\n",
        "test = pd.read_pickle('data/test.p')\n",
        "\n",
        "X_train, y_train = train['features'], train['labels']\n",
        "X_test, y_test = test['features'], test['labels']"
      ],
      "execution_count": 0,
      "outputs": []
    },
    {
      "cell_type": "code",
      "metadata": {
        "id": "7PtZ6u30U1Y2",
        "colab_type": "code",
        "colab": {}
      },
      "source": [
        "#to have everytimme the same score\n",
        "if y_train.ndim == 1: y_train = to_categorical(y_train)\n",
        "\n",
        "if y_test.ndim == 1: y_test = to_categorical(y_test)"
      ],
      "execution_count": 0,
      "outputs": []
    },
    {
      "cell_type": "code",
      "metadata": {
        "id": "V6JqOGj4VXrf",
        "colab_type": "code",
        "colab": {}
      },
      "source": [
        "input_shape = X_train.shape[1:]\n",
        "num_classes = y_train.shape[1]"
      ],
      "execution_count": 0,
      "outputs": []
    },
    {
      "cell_type": "code",
      "metadata": {
        "id": "BOip2kMaWkZp",
        "colab_type": "code",
        "outputId": "8e3e331f-c167-4aa9-906d-bf0367f7c91e",
        "colab": {
          "base_uri": "https://localhost:8080/",
          "height": 51
        }
      },
      "source": [
        "model = Sequential ([\n",
        "    Conv2D(filters=64, kernel_size=(3, 3), activation='relu', input_shape=input_shape),\n",
        "\n",
        "    Flatten(),\n",
        "\n",
        "    Dense(num_classes, activation='softmax')\n",
        "])\n",
        "\n",
        "#model.summary()\n",
        "\n",
        "model.compile(loss='categorical_crossentropy', optimizer='Adam', metrics=['accuracy'])\n",
        "model.fit(X_train, y_train)"
      ],
      "execution_count": 0,
      "outputs": [
        {
          "output_type": "stream",
          "text": [
            "1088/1088 [==============================] - 4s 3ms/step - loss: 5.5256 - accuracy: 0.7899\n"
          ],
          "name": "stdout"
        },
        {
          "output_type": "execute_result",
          "data": {
            "text/plain": [
              "<tensorflow.python.keras.callbacks.History at 0x7feb501379b0>"
            ]
          },
          "metadata": {
            "tags": []
          },
          "execution_count": 8
        }
      ]
    },
    {
      "cell_type": "code",
      "metadata": {
        "id": "lcl2-XTyX9b9",
        "colab_type": "code",
        "colab": {}
      },
      "source": [
        "def get_cnn_v1(num_classes, input_shape):\n",
        "  return Sequential ([\n",
        "      Conv2D(filters=64, kernel_size=(3, 3), activation='relu', input_shape=input_shape),\n",
        "\n",
        "      Flatten(),\n",
        "\n",
        "     Dense(num_classes, activation='softmax'),\n",
        "  ])\n",
        "\n",
        "def train_model(model, X_train, y_train, params_fit={}):\n",
        "  model.compile(loss='categorical_crossentropy', optimizer='Adam', metrics=['accuracy'])\n",
        "  \n",
        "  logdir = os.path.join('logs', datetime.datetime.now().strftime('%Y%m%d-%H%M%S'))\n",
        "  tensorboard_callback = tf.keras.callbacks.TensorBoard(logdir, histogram_freq=1)\n",
        "\n",
        "  model.fit(\n",
        "      X_train, \n",
        "      y_train,\n",
        "      batch_size = params_fit.get('bach_size', 128),\n",
        "      epochs = params_fit.get('epochs', 5),\n",
        "      verbose = params_fit.get('verbose', 1),\n",
        "      validation_data = params_fit.get('validation_data', (X_train, y_train)),\n",
        "      callbacks = [tensorboard_callback]\n",
        "  )\n",
        "  \n",
        "  return model"
      ],
      "execution_count": 0,
      "outputs": []
    },
    {
      "cell_type": "markdown",
      "metadata": {
        "id": "90a_4W3UqJqg",
        "colab_type": "text"
      },
      "source": [
        "## Day 4 - improvings"
      ]
    },
    {
      "cell_type": "code",
      "metadata": {
        "id": "a9m1YOXcacUH",
        "colab_type": "code",
        "outputId": "be3b58af-ec83-474a-cda3-8c74fb62f484",
        "colab": {
          "base_uri": "https://localhost:8080/",
          "height": 187
        }
      },
      "source": [
        "model = get_cnn_v1(num_classes, input_shape)\n",
        "model_trained = train_model(model, X_train, y_train)"
      ],
      "execution_count": 0,
      "outputs": [
        {
          "output_type": "stream",
          "text": [
            "Epoch 1/5\n",
            "272/272 [==============================] - 3s 11ms/step - loss: 39.5522 - accuracy: 0.7511 - val_loss: 0.2271 - val_accuracy: 0.9482\n",
            "Epoch 2/5\n",
            "272/272 [==============================] - 3s 11ms/step - loss: 0.2038 - accuracy: 0.9540 - val_loss: 0.1359 - val_accuracy: 0.9680\n",
            "Epoch 3/5\n",
            "272/272 [==============================] - 3s 11ms/step - loss: 0.1279 - accuracy: 0.9701 - val_loss: 0.1165 - val_accuracy: 0.9722\n",
            "Epoch 4/5\n",
            "272/272 [==============================] - 3s 11ms/step - loss: 0.1065 - accuracy: 0.9756 - val_loss: 0.0741 - val_accuracy: 0.9823\n",
            "Epoch 5/5\n",
            "272/272 [==============================] - 3s 11ms/step - loss: 0.0977 - accuracy: 0.9774 - val_loss: 0.0640 - val_accuracy: 0.9863\n"
          ],
          "name": "stdout"
        }
      ]
    },
    {
      "cell_type": "code",
      "metadata": {
        "id": "Vk0d8xB-cwUR",
        "colab_type": "code",
        "colab": {}
      },
      "source": [
        "def predict(model_trained, X_test, y_test, scoring=accuracy_score):\n",
        "  y_test_norm = np.argmax(y_test, axis=1)\n",
        "\n",
        "  y_pred_prob = model_trained.predict(X_test)\n",
        "  y_pred = np.argmax(y_pred_prob, axis=1)\n",
        "\n",
        "  return scoring(y_test_norm, y_pred)"
      ],
      "execution_count": 0,
      "outputs": []
    },
    {
      "cell_type": "code",
      "metadata": {
        "id": "_Rt2OhjmniEw",
        "colab_type": "code",
        "colab": {}
      },
      "source": [
        "def train_and_predict(model):\n",
        "  model_trained = train_model(model, X_train, y_train)\n",
        "  return predict(model_trained, X_test, y_test)"
      ],
      "execution_count": 0,
      "outputs": []
    },
    {
      "cell_type": "code",
      "metadata": {
        "id": "17_2J6SQj_IE",
        "colab_type": "code",
        "outputId": "cb08ebdc-b180-449a-a1cb-3ce3c05d2933",
        "colab": {
          "base_uri": "https://localhost:8080/",
          "height": 204
        }
      },
      "source": [
        "def get_cnn_v2(num_classes, input_shape):\n",
        "  return Sequential ([\n",
        "     Conv2D(filters=32, kernel_size=(3, 3), activation='relu', input_shape=input_shape),\n",
        "     MaxPool2D(),\n",
        "     Dropout(0.5),\n",
        "\n",
        "     Conv2D(filters=64, kernel_size=(3, 3), activation='relu'),\n",
        "     MaxPool2D(),\n",
        "     Dropout(0.3),\n",
        "\n",
        "     Flatten(),\n",
        "\n",
        "     Dense(1024, activation='relu'), \n",
        "     Dropout(0.5),\n",
        "\n",
        "     Dense(num_classes, activation='softmax')\n",
        "  ])\n",
        "\n",
        "\n",
        "train_and_predict( get_cnn_v2(num_classes, input_shape) )"
      ],
      "execution_count": 0,
      "outputs": [
        {
          "output_type": "stream",
          "text": [
            "Epoch 1/5\n",
            "272/272 [==============================] - 3s 11ms/step - loss: 7.0770 - accuracy: 0.1475 - val_loss: 2.8430 - val_accuracy: 0.2459\n",
            "Epoch 2/5\n",
            "272/272 [==============================] - 3s 11ms/step - loss: 2.0379 - accuracy: 0.4270 - val_loss: 0.9375 - val_accuracy: 0.7521\n",
            "Epoch 3/5\n",
            "272/272 [==============================] - 3s 11ms/step - loss: 1.0776 - accuracy: 0.6728 - val_loss: 0.4761 - val_accuracy: 0.8871\n",
            "Epoch 4/5\n",
            "272/272 [==============================] - 3s 11ms/step - loss: 0.7408 - accuracy: 0.7721 - val_loss: 0.2877 - val_accuracy: 0.9334\n",
            "Epoch 5/5\n",
            "272/272 [==============================] - 3s 11ms/step - loss: 0.5704 - accuracy: 0.8234 - val_loss: 0.1724 - val_accuracy: 0.9602\n"
          ],
          "name": "stdout"
        },
        {
          "output_type": "execute_result",
          "data": {
            "text/plain": [
              "0.8895691609977324"
            ]
          },
          "metadata": {
            "tags": []
          },
          "execution_count": 28
        }
      ]
    },
    {
      "cell_type": "code",
      "metadata": {
        "id": "VfQnqHnQpdu3",
        "colab_type": "code",
        "outputId": "a29b9142-1d1c-47a7-aa07-4355b08b99f1",
        "colab": {
          "base_uri": "https://localhost:8080/",
          "height": 204
        }
      },
      "source": [
        "def get_cnn_v3(num_classes, input_shape):\n",
        "  return Sequential ([\n",
        "     Conv2D(filters=32, kernel_size=(3, 3), activation='relu', input_shape=input_shape),\n",
        "     Conv2D(filters=32, kernel_size=(3, 3), activation='relu'),\n",
        "     MaxPool2D(),\n",
        "     Dropout(0.5),\n",
        "\n",
        "     Conv2D(filters=64, kernel_size=(3, 3), activation='relu'),\n",
        "     Conv2D(filters=64, kernel_size=(3, 3), activation='relu'),\n",
        "     MaxPool2D(),\n",
        "     Dropout(0.3),\n",
        "\n",
        "     Flatten(),\n",
        "\n",
        "     Dense(1024, activation='relu'), \n",
        "     Dropout(0.5),\n",
        "\n",
        "     Dense(num_classes, activation='softmax')\n",
        "  ])\n",
        "\n",
        "\n",
        "train_and_predict( get_cnn_v3(num_classes, input_shape) )"
      ],
      "execution_count": 0,
      "outputs": [
        {
          "output_type": "stream",
          "text": [
            "Epoch 1/5\n",
            "272/272 [==============================] - 4s 16ms/step - loss: 2.4768 - accuracy: 0.4148 - val_loss: 0.6900 - val_accuracy: 0.8620\n",
            "Epoch 2/5\n",
            "272/272 [==============================] - 4s 15ms/step - loss: 0.7445 - accuracy: 0.7757 - val_loss: 0.1832 - val_accuracy: 0.9646\n",
            "Epoch 3/5\n",
            "272/272 [==============================] - 4s 15ms/step - loss: 0.4264 - accuracy: 0.8703 - val_loss: 0.0935 - val_accuracy: 0.9808\n",
            "Epoch 4/5\n",
            "272/272 [==============================] - 4s 15ms/step - loss: 0.2881 - accuracy: 0.9115 - val_loss: 0.0478 - val_accuracy: 0.9896\n",
            "Epoch 5/5\n",
            "272/272 [==============================] - 4s 15ms/step - loss: 0.2263 - accuracy: 0.9318 - val_loss: 0.0463 - val_accuracy: 0.9916\n"
          ],
          "name": "stdout"
        },
        {
          "output_type": "execute_result",
          "data": {
            "text/plain": [
              "0.9739229024943311"
            ]
          },
          "metadata": {
            "tags": []
          },
          "execution_count": 29
        }
      ]
    },
    {
      "cell_type": "code",
      "metadata": {
        "id": "kSLa0xBJq7fw",
        "colab_type": "code",
        "outputId": "d3e8b361-0852-43eb-8c19-d6313d1a105e",
        "colab": {
          "base_uri": "https://localhost:8080/",
          "height": 204
        }
      },
      "source": [
        "def get_cnn_v4(num_classes, input_shape):\n",
        "  return Sequential ([\n",
        "     Conv2D(filters=32, kernel_size=(3, 3), activation='relu', input_shape=input_shape),\n",
        "     Conv2D(filters=32, kernel_size=(3, 3), activation='relu', padding='same'),\n",
        "     MaxPool2D(),\n",
        "     Dropout(0.3),\n",
        "\n",
        "     Conv2D(filters=64, kernel_size=(3, 3), activation='relu', padding='same'),\n",
        "     Conv2D(filters=64, kernel_size=(3, 3), activation='relu'),\n",
        "     MaxPool2D(),\n",
        "     Dropout(0.3),\n",
        "\n",
        "     Conv2D(filters=64, kernel_size=(3, 3), activation='relu', padding='same'),\n",
        "     Conv2D(filters=64, kernel_size=(3, 3), activation='relu'),\n",
        "     MaxPool2D(),\n",
        "     Dropout(0.3),\n",
        "\n",
        "     Flatten(),\n",
        "\n",
        "     Dense(1024, activation='relu'), \n",
        "     Dropout(0.3),\n",
        "\n",
        "     Dense(num_classes, activation='softmax')\n",
        "  ])\n",
        "\n",
        "train_and_predict( get_cnn_v4(num_classes, input_shape) )"
      ],
      "execution_count": 0,
      "outputs": [
        {
          "output_type": "stream",
          "text": [
            "Epoch 1/5\n",
            "272/272 [==============================] - 5s 18ms/step - loss: 2.7322 - accuracy: 0.2718 - val_loss: 1.3953 - val_accuracy: 0.5444\n",
            "Epoch 2/5\n",
            "272/272 [==============================] - 4s 16ms/step - loss: 1.0979 - accuracy: 0.6464 - val_loss: 0.3163 - val_accuracy: 0.9042\n",
            "Epoch 3/5\n",
            "272/272 [==============================] - 5s 17ms/step - loss: 0.4643 - accuracy: 0.8530 - val_loss: 0.0953 - val_accuracy: 0.9728\n",
            "Epoch 4/5\n",
            "272/272 [==============================] - 5s 17ms/step - loss: 0.2870 - accuracy: 0.9127 - val_loss: 0.0758 - val_accuracy: 0.9792\n",
            "Epoch 5/5\n",
            "272/272 [==============================] - 5s 17ms/step - loss: 0.2156 - accuracy: 0.9338 - val_loss: 0.0322 - val_accuracy: 0.9910\n"
          ],
          "name": "stdout"
        },
        {
          "output_type": "execute_result",
          "data": {
            "text/plain": [
              "0.9643990929705215"
            ]
          },
          "metadata": {
            "tags": []
          },
          "execution_count": 34
        }
      ]
    },
    {
      "cell_type": "code",
      "metadata": {
        "id": "laCOpovvrdRK",
        "colab_type": "code",
        "outputId": "9aee4f2d-9117-4356-ba35-b59c6374595b",
        "colab": {
          "base_uri": "https://localhost:8080/",
          "height": 204
        }
      },
      "source": [
        "def get_cnn_v5(num_classes, input_shape):\n",
        "  return Sequential ([\n",
        "     Conv2D(filters=32, kernel_size=(3, 3), activation='relu', input_shape=input_shape),\n",
        "     Conv2D(filters=32, kernel_size=(3, 3), activation='relu', padding='same'),\n",
        "     MaxPool2D(),\n",
        "     Dropout(0.3),\n",
        "\n",
        "     Conv2D(filters=64, kernel_size=(3, 3), activation='relu', padding='same'),\n",
        "     Conv2D(filters=64, kernel_size=(3, 3), activation='relu'),\n",
        "     MaxPool2D(),\n",
        "     Dropout(0.3),\n",
        "\n",
        "     Conv2D(filters=64, kernel_size=(3, 3), activation='relu', padding='same'),\n",
        "     Conv2D(filters=64, kernel_size=(3, 3), activation='relu'),\n",
        "     MaxPool2D(),\n",
        "     Dropout(0.3),\n",
        "\n",
        "     Flatten(),\n",
        "\n",
        "     Dense(1024, activation='relu'), \n",
        "     Dropout(0.3),\n",
        "\n",
        "     Dense(1024, activation='relu'), \n",
        "     Dropout(0.3),\n",
        "\n",
        "     Dense(num_classes, activation='softmax')\n",
        "  ])\n",
        "\n",
        "train_and_predict( get_cnn_v5(num_classes, input_shape) )"
      ],
      "execution_count": 0,
      "outputs": [
        {
          "output_type": "stream",
          "text": [
            "Epoch 1/5\n",
            "272/272 [==============================] - 5s 18ms/step - loss: 2.4079 - accuracy: 0.3240 - val_loss: 1.0811 - val_accuracy: 0.6704\n",
            "Epoch 2/5\n",
            "272/272 [==============================] - 5s 18ms/step - loss: 0.8452 - accuracy: 0.7314 - val_loss: 0.2459 - val_accuracy: 0.9261\n",
            "Epoch 3/5\n",
            "272/272 [==============================] - 5s 18ms/step - loss: 0.3888 - accuracy: 0.8801 - val_loss: 0.0943 - val_accuracy: 0.9754\n",
            "Epoch 4/5\n",
            "272/272 [==============================] - 5s 18ms/step - loss: 0.2458 - accuracy: 0.9252 - val_loss: 0.0433 - val_accuracy: 0.9875\n",
            "Epoch 5/5\n",
            "272/272 [==============================] - 5s 18ms/step - loss: 0.1867 - accuracy: 0.9454 - val_loss: 0.0378 - val_accuracy: 0.9891\n"
          ],
          "name": "stdout"
        },
        {
          "output_type": "execute_result",
          "data": {
            "text/plain": [
              "0.9702947845804989"
            ]
          },
          "metadata": {
            "tags": []
          },
          "execution_count": 35
        }
      ]
    },
    {
      "cell_type": "markdown",
      "metadata": {
        "id": "OPFWPPkIuID6",
        "colab_type": "text"
      },
      "source": [
        "RGB to GRAY"
      ]
    },
    {
      "cell_type": "code",
      "metadata": {
        "id": "ihwB7LbgtU7m",
        "colab_type": "code",
        "outputId": "39de35d3-68a4-4ba5-ae07-dc4b93422816",
        "colab": {
          "base_uri": "https://localhost:8080/",
          "height": 34
        }
      },
      "source": [
        "X_train_gray = color.rgb2gray(X_train).reshape(-1, 32, 32, 1)\n",
        "X_test_gray = color.rgb2gray(X_test).reshape(-1, 32, 32, 1)\n"
      ],
      "execution_count": 0,
      "outputs": [
        {
          "output_type": "stream",
          "text": [
            "ERROR! Session/line number was not unique in database. History logging moved to new session 64\n"
          ],
          "name": "stdout"
        }
      ]
    },
    {
      "cell_type": "code",
      "metadata": {
        "id": "P8J5sUexuNl0",
        "colab_type": "code",
        "outputId": "1242f7bf-317e-4ec0-eaf7-d35fbfb599ba",
        "colab": {
          "base_uri": "https://localhost:8080/",
          "height": 204
        }
      },
      "source": [
        "model =  get_cnn_v5(num_classes, (32, 32, 1))\n",
        "model_trained = train_model(model, X_train_gray, y_train, params_fit={})\n",
        "\n",
        "predict(model_trained, X_test_gray, y_test)"
      ],
      "execution_count": 0,
      "outputs": [
        {
          "output_type": "stream",
          "text": [
            "Epoch 1/5\n",
            "272/272 [==============================] - 5s 19ms/step - loss: 2.5465 - accuracy: 0.2777 - val_loss: 0.9678 - val_accuracy: 0.7073\n",
            "Epoch 2/5\n",
            "272/272 [==============================] - 5s 17ms/step - loss: 0.6103 - accuracy: 0.8051 - val_loss: 0.1378 - val_accuracy: 0.9587\n",
            "Epoch 3/5\n",
            "272/272 [==============================] - 5s 18ms/step - loss: 0.2558 - accuracy: 0.9176 - val_loss: 0.0673 - val_accuracy: 0.9808\n",
            "Epoch 4/5\n",
            "272/272 [==============================] - 5s 18ms/step - loss: 0.1629 - accuracy: 0.9496 - val_loss: 0.0347 - val_accuracy: 0.9901\n",
            "Epoch 5/5\n",
            "272/272 [==============================] - 5s 18ms/step - loss: 0.1158 - accuracy: 0.9640 - val_loss: 0.0273 - val_accuracy: 0.9915\n"
          ],
          "name": "stdout"
        },
        {
          "output_type": "execute_result",
          "data": {
            "text/plain": [
              "0.9662131519274376"
            ]
          },
          "metadata": {
            "tags": []
          },
          "execution_count": 44
        }
      ]
    },
    {
      "cell_type": "code",
      "metadata": {
        "id": "0klyu0zAvzPl",
        "colab_type": "code",
        "colab": {}
      },
      "source": [
        ""
      ],
      "execution_count": 0,
      "outputs": []
    }
  ]
}