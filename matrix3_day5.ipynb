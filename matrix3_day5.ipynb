{
  "nbformat": 4,
  "nbformat_minor": 0,
  "metadata": {
    "colab": {
      "name": "matrix3_day5.ipynb",
      "provenance": [],
      "mount_file_id": "1-SiiS4k3IruWyF1611_DnmaXDFWWhQOr",
      "authorship_tag": "ABX9TyOy3H+9Rhf2lo9t5OtDkF+u"
    },
    "kernelspec": {
      "name": "python3",
      "display_name": "Python 3"
    },
    "accelerator": "GPU"
  },
  "cells": [
    {
      "cell_type": "code",
      "metadata": {
        "id": "vySVnRWozz7R",
        "colab_type": "code",
        "outputId": "4d5615f7-71a3-47b7-b7d5-98024e9fc693",
        "colab": {
          "base_uri": "https://localhost:8080/",
          "height": 34
        }
      },
      "source": [
        "cd \"/content/drive/My Drive/Colab Notebooks/Matrix/Matrix_three_road_signs_recognition/DW_Matrix_roadSignRecognition\""
      ],
      "execution_count": 1,
      "outputs": [
        {
          "output_type": "stream",
          "text": [
            "/content/drive/My Drive/Colab Notebooks/Matrix/Matrix_three_road_signs_recognition/DW_Matrix_roadSignRecognition\n"
          ],
          "name": "stdout"
        }
      ]
    },
    {
      "cell_type": "code",
      "metadata": {
        "id": "uRgb9CneziCe",
        "colab_type": "code",
        "colab": {}
      },
      "source": [
        "import pandas as pd\n",
        "import numpy as np\n",
        "import os\n",
        "import datetime\n",
        "\n",
        "import tensorflow as tf\n",
        "from tensorflow.keras.models import Sequential\n",
        "from tensorflow.keras.layers import Conv2D, MaxPool2D, Dense, Flatten, Dropout\n",
        "from tensorflow.keras.utils import to_categorical\n",
        "\n",
        "%load_ext tensorboard\n",
        "\n",
        "import matplotlib.pyplot as plt\n",
        "from skimage import color, exposure\n",
        "\n",
        "from sklearn.metrics import accuracy_score\n",
        "\n",
        "from hyperopt import hp, STATUS_OK, tpe, Trials, fmin"
      ],
      "execution_count": 0,
      "outputs": []
    },
    {
      "cell_type": "code",
      "metadata": {
        "id": "kP6mItWw0QBo",
        "colab_type": "code",
        "colab": {}
      },
      "source": [
        "train = pd.read_pickle('data/train.p')\n",
        "test = pd.read_pickle('data/test.p')\n",
        "\n",
        "X_train, y_train = train['features'], train['labels']\n",
        "X_test, y_test = test['features'], test['labels']"
      ],
      "execution_count": 0,
      "outputs": []
    },
    {
      "cell_type": "code",
      "metadata": {
        "id": "MMp-kELC0kLQ",
        "colab_type": "code",
        "colab": {}
      },
      "source": [
        "if y_train.ndim == 1: y_train = to_categorical(y_train)\n",
        "if y_test.ndim == 1: y_test = to_categorical(y_test)\n",
        "\n",
        "input_shape = X_train.shape[1:]\n",
        "num_classes = y_train.shape[1]"
      ],
      "execution_count": 0,
      "outputs": []
    },
    {
      "cell_type": "code",
      "metadata": {
        "id": "xM7ZGFcb0rTH",
        "colab_type": "code",
        "colab": {}
      },
      "source": [
        "def train_model(model, X_train, y_train, params_fit={}):\n",
        "  model.compile(loss='categorical_crossentropy', optimizer='Adam', metrics=['accuracy'])\n",
        "  \n",
        "  logdir = os.path.join('logs', datetime.datetime.now().strftime('%Y%m%d-%H%M%S'))\n",
        "  tensorboard_callback = tf.keras.callbacks.TensorBoard(logdir, histogram_freq=1)\n",
        "\n",
        "  model.fit(\n",
        "      X_train, \n",
        "      y_train,\n",
        "      batch_size = params_fit.get('bach_size', 128),\n",
        "      epochs = params_fit.get('epochs', 5),\n",
        "      verbose = params_fit.get('verbose', 1),\n",
        "      validation_data = params_fit.get('validation_data', (X_train, y_train)),\n",
        "      callbacks = [tensorboard_callback]\n",
        "  )\n",
        "  \n",
        "  return model"
      ],
      "execution_count": 0,
      "outputs": []
    },
    {
      "cell_type": "code",
      "metadata": {
        "id": "5IQCkIZG0v6-",
        "colab_type": "code",
        "colab": {}
      },
      "source": [
        "def predict(model_trained, X_test, y_test, scoring=accuracy_score):\n",
        "  y_test_norm = np.argmax(y_test, axis=1)\n",
        "\n",
        "  y_pred_prob = model_trained.predict(X_test)\n",
        "  y_pred = np.argmax(y_pred_prob, axis=1)\n",
        "\n",
        "  return scoring(y_test_norm, y_pred)"
      ],
      "execution_count": 0,
      "outputs": []
    },
    {
      "cell_type": "code",
      "metadata": {
        "id": "b0oo6EuW0y2v",
        "colab_type": "code",
        "colab": {}
      },
      "source": [
        "def get_cnn_v5(num_classes, input_shape):\n",
        "  return Sequential ([\n",
        "     Conv2D(filters=32, kernel_size=(3, 3), activation='relu', input_shape=input_shape),\n",
        "     Conv2D(filters=32, kernel_size=(3, 3), activation='relu', padding='same'),\n",
        "     MaxPool2D(),\n",
        "     Dropout(0.3),\n",
        "\n",
        "     Conv2D(filters=64, kernel_size=(3, 3), activation='relu', padding='same'),\n",
        "     Conv2D(filters=64, kernel_size=(3, 3), activation='relu'),\n",
        "     MaxPool2D(),\n",
        "     Dropout(0.3),\n",
        "\n",
        "     Conv2D(filters=64, kernel_size=(3, 3), activation='relu', padding='same'),\n",
        "     Conv2D(filters=64, kernel_size=(3, 3), activation='relu'),\n",
        "     MaxPool2D(),\n",
        "     Dropout(0.3),\n",
        "\n",
        "     Flatten(),\n",
        "\n",
        "     Dense(1024, activation='relu'), \n",
        "     Dropout(0.3),\n",
        "\n",
        "     Dense(1024, activation='relu'), \n",
        "     Dropout(0.3),\n",
        "\n",
        "     Dense(num_classes, activation='softmax')\n",
        "  ])\n",
        "\n"
      ],
      "execution_count": 0,
      "outputs": []
    },
    {
      "cell_type": "code",
      "metadata": {
        "id": "8ZF-g4EU07tn",
        "colab_type": "code",
        "outputId": "eb2f9665-abcb-4b47-ac7a-2cbcb74dc930",
        "colab": {
          "base_uri": "https://localhost:8080/",
          "height": 204
        }
      },
      "source": [
        "model = get_cnn_v5(num_classes, input_shape)\n",
        "model_trained = train_model(model, X_train, y_train)\n",
        "\n",
        "predict(model_trained, X_test, y_test)"
      ],
      "execution_count": 8,
      "outputs": [
        {
          "output_type": "stream",
          "text": [
            "Epoch 1/5\n",
            "272/272 [==============================] - 6s 24ms/step - loss: 2.4528 - accuracy: 0.3211 - val_loss: 1.1463 - val_accuracy: 0.6802\n",
            "Epoch 2/5\n",
            "272/272 [==============================] - 6s 22ms/step - loss: 0.9573 - accuracy: 0.6977 - val_loss: 0.3491 - val_accuracy: 0.8986\n",
            "Epoch 3/5\n",
            "272/272 [==============================] - 6s 22ms/step - loss: 0.5630 - accuracy: 0.8183 - val_loss: 0.1737 - val_accuracy: 0.9551\n",
            "Epoch 4/5\n",
            "272/272 [==============================] - 6s 22ms/step - loss: 0.3678 - accuracy: 0.8847 - val_loss: 0.1132 - val_accuracy: 0.9630\n",
            "Epoch 5/5\n",
            "272/272 [==============================] - 6s 22ms/step - loss: 0.2981 - accuracy: 0.9070 - val_loss: 0.0771 - val_accuracy: 0.9776\n"
          ],
          "name": "stdout"
        },
        {
          "output_type": "execute_result",
          "data": {
            "text/plain": [
              "0.9551020408163265"
            ]
          },
          "metadata": {
            "tags": []
          },
          "execution_count": 8
        }
      ]
    },
    {
      "cell_type": "code",
      "metadata": {
        "id": "dVMwHbmv7hpl",
        "colab_type": "code",
        "outputId": "dc6b64f6-6057-4cb8-a996-7f7235b09a2a",
        "colab": {
          "base_uri": "https://localhost:8080/",
          "height": 51
        }
      },
      "source": [
        "model_trained.evaluate(X_test, y_test)[1]"
      ],
      "execution_count": 11,
      "outputs": [
        {
          "output_type": "stream",
          "text": [
            "138/138 [==============================] - 0s 4ms/step - loss: 0.1972 - accuracy: 0.9551\n"
          ],
          "name": "stdout"
        },
        {
          "output_type": "execute_result",
          "data": {
            "text/plain": [
              "0.9551020264625549"
            ]
          },
          "metadata": {
            "tags": []
          },
          "execution_count": 11
        }
      ]
    },
    {
      "cell_type": "code",
      "metadata": {
        "id": "ujjcYkqM1tJO",
        "colab_type": "code",
        "colab": {}
      },
      "source": [
        "def func_obj(params):\n",
        "  model = get_model(params)\n",
        "  model.compile(loss='categorical_crossentropy', optimizer='Adam', metrics=['accuracy'])\n",
        "  \n",
        "\n",
        "  model.fit(\n",
        "      X_train, \n",
        "      y_train,\n",
        "      batch_size = int( params.get('bach_size', 128) ),\n",
        "      epochs = 5,\n",
        "      verbose = 0      \n",
        "  )\n",
        "  \n",
        "  score = model.evaluate(X_test, y_test, verbose=0)\n",
        "  accuracy = score[1]\n",
        "  print(params, 'accuracy={}'.format(accuracy))\n",
        "\n",
        "  return {'loss': -accuracy, 'status': STATUS_OK, 'modeml': model}"
      ],
      "execution_count": 0,
      "outputs": []
    },
    {
      "cell_type": "code",
      "metadata": {
        "id": "YfaHr2cX2JDc",
        "colab_type": "code",
        "outputId": "65a38d42-5e15-4cc2-e631-06e6e43f46b3",
        "colab": {
          "base_uri": "https://localhost:8080/",
          "height": 1000
        }
      },
      "source": [
        "space = {\n",
        "    'batch_size' : hp.quniform('batch_size', 50, 200, 20),\n",
        "    'dropout_cnn_block_one' :  hp.uniform('dropout_cnn_block_one', 0, 1),\n",
        "    'dropout_cnn_block_two' :  hp.uniform('dropout_cnn_block_two', 0, 1),\n",
        "    'dropout_cnn_block_three' :  hp.uniform('dropout_cnn_block_three', 0, 1),\n",
        "\n",
        "    'dropout_dense_block_one' :  hp.uniform('dropout_dense_block_one', 0, 1),\n",
        "    'dropout_dense_block_two' :  hp.uniform('dropout_dense_block_two', 0, 1)\n",
        "}\n",
        "\n",
        "best = fmin(\n",
        "    func_obj,\n",
        "    space,\n",
        "    tpe.suggest,\n",
        "    30,\n",
        "    Trials()\n",
        ")"
      ],
      "execution_count": 31,
      "outputs": [
        {
          "output_type": "stream",
          "text": [
            "{'batch_size': 140.0, 'dropout_cnn_block_one': 0.7192536492594018, 'dropout_cnn_block_three': 0.8527586215295189, 'dropout_cnn_block_two': 0.774314719245453, 'dropout_dense_block_one': 0.3326870200317217, 'dropout_dense_block_two': 0.21529260651476534}\n",
            "accuracy=0.10544217377901077\n",
            "{'batch_size': 140.0, 'dropout_cnn_block_one': 0.765254128759447, 'dropout_cnn_block_three': 0.5406290471828296, 'dropout_cnn_block_two': 0.6080994958608368, 'dropout_dense_block_one': 0.34313575222015724, 'dropout_dense_block_two': 0.8597657922863989}\n",
            "accuracy=0.1863945573568344\n",
            "{'batch_size': 100.0, 'dropout_cnn_block_one': 0.09130655452158087, 'dropout_cnn_block_three': 0.06209465259407265, 'dropout_cnn_block_two': 0.04695029472396994, 'dropout_dense_block_one': 0.8123698222846684, 'dropout_dense_block_two': 0.6253828974015545}\n",
            "accuracy=0.9453514814376831\n",
            "{'batch_size': 60.0, 'dropout_cnn_block_one': 0.41730493685133974, 'dropout_cnn_block_three': 0.9229685981863033, 'dropout_cnn_block_two': 0.17952390967319865, 'dropout_dense_block_one': 0.2458591203979661, 'dropout_dense_block_two': 0.0396397809941178}\n",
            "accuracy=0.3671201765537262\n",
            "{'batch_size': 200.0, 'dropout_cnn_block_one': 0.6799182251670572, 'dropout_cnn_block_three': 0.2556827082379034, 'dropout_cnn_block_two': 0.6983840164258994, 'dropout_dense_block_one': 0.08223026007447332, 'dropout_dense_block_two': 0.5983678404982297}\n",
            "accuracy=0.5657596588134766\n",
            "{'batch_size': 80.0, 'dropout_cnn_block_one': 0.8294563588078209, 'dropout_cnn_block_three': 0.9238467221312099, 'dropout_cnn_block_two': 0.1557468585548859, 'dropout_dense_block_one': 0.497984205026367, 'dropout_dense_block_two': 0.5253383696675876}\n",
            "accuracy=0.13832199573516846\n",
            "{'batch_size': 80.0, 'dropout_cnn_block_one': 0.6392745533041965, 'dropout_cnn_block_three': 0.04174104569997672, 'dropout_cnn_block_two': 0.5394155865612312, 'dropout_dense_block_one': 0.9760316661092556, 'dropout_dense_block_two': 0.0943043729637747}\n",
            "accuracy=0.2730158865451813\n",
            "{'batch_size': 140.0, 'dropout_cnn_block_one': 0.2618903266313437, 'dropout_cnn_block_three': 0.3809140448308137, 'dropout_cnn_block_two': 0.6141425566509665, 'dropout_dense_block_one': 0.22155241443642892, 'dropout_dense_block_two': 0.04361139815497239}\n",
            "accuracy=0.9369614720344543\n",
            "{'batch_size': 200.0, 'dropout_cnn_block_one': 0.1622595632262549, 'dropout_cnn_block_three': 0.4315239317420505, 'dropout_cnn_block_two': 0.16033657534677992, 'dropout_dense_block_one': 0.8557869629312499, 'dropout_dense_block_two': 0.011307702256108332}\n",
            "accuracy=0.9448979496955872\n",
            "{'batch_size': 160.0, 'dropout_cnn_block_one': 0.37808333462545396, 'dropout_cnn_block_three': 0.31901210101904776, 'dropout_cnn_block_two': 0.624640448884187, 'dropout_dense_block_one': 0.21609779722756328, 'dropout_dense_block_two': 0.5270332041100465}\n",
            "accuracy=0.9174603223800659\n",
            "{'batch_size': 140.0, 'dropout_cnn_block_one': 0.3020421022355705, 'dropout_cnn_block_three': 0.158738640448025, 'dropout_cnn_block_two': 0.8297899067633843, 'dropout_dense_block_one': 0.38777938264081635, 'dropout_dense_block_two': 0.038247738725704195}\n",
            "accuracy=0.8834466934204102\n",
            "{'batch_size': 60.0, 'dropout_cnn_block_one': 0.3436574673565558, 'dropout_cnn_block_three': 0.10818186450439882, 'dropout_cnn_block_two': 0.5054271483518727, 'dropout_dense_block_one': 0.7871375868150351, 'dropout_dense_block_two': 0.8095969840564501}\n",
            "accuracy=0.7158730030059814\n",
            "{'batch_size': 160.0, 'dropout_cnn_block_one': 0.2623131263374133, 'dropout_cnn_block_three': 0.33526818164103245, 'dropout_cnn_block_two': 0.19142292678106032, 'dropout_dense_block_one': 0.42131586725046033, 'dropout_dense_block_two': 0.9493982370385938}\n",
            "accuracy=0.501814067363739\n",
            "{'batch_size': 140.0, 'dropout_cnn_block_one': 0.0712646511627687, 'dropout_cnn_block_three': 0.6645510240382745, 'dropout_cnn_block_two': 0.3757819035777272, 'dropout_dense_block_one': 0.23647240766474353, 'dropout_dense_block_two': 0.857593483895547}\n",
            "accuracy=0.7943310737609863\n",
            "{'batch_size': 60.0, 'dropout_cnn_block_one': 0.2104888705246929, 'dropout_cnn_block_three': 0.16743974313458787, 'dropout_cnn_block_two': 0.9472759310882831, 'dropout_dense_block_one': 0.031084311981315338, 'dropout_dense_block_two': 0.6573959722941027}\n",
            "accuracy=0.3183673322200775\n",
            "{'batch_size': 120.0, 'dropout_cnn_block_one': 0.15064940094170476, 'dropout_cnn_block_three': 0.6742733988122701, 'dropout_cnn_block_two': 0.933847627309206, 'dropout_dense_block_one': 0.49297464236385413, 'dropout_dense_block_two': 0.9804772429955101}\n",
            "accuracy=0.054421767592430115\n",
            "{'batch_size': 120.0, 'dropout_cnn_block_one': 0.913513803898689, 'dropout_cnn_block_three': 0.9702180022253718, 'dropout_cnn_block_two': 0.7636175287856124, 'dropout_dense_block_one': 0.11693975336723761, 'dropout_dense_block_two': 0.6633369655863119}\n",
            "accuracy=0.054421767592430115\n",
            "{'batch_size': 60.0, 'dropout_cnn_block_one': 0.12741391438527905, 'dropout_cnn_block_three': 0.8631684642473659, 'dropout_cnn_block_two': 0.9911493879703527, 'dropout_dense_block_one': 0.2473866004846268, 'dropout_dense_block_two': 0.0901074597248318}\n",
            "accuracy=0.0476190485060215\n",
            "{'batch_size': 140.0, 'dropout_cnn_block_one': 0.011140703399849738, 'dropout_cnn_block_three': 0.5697765267201221, 'dropout_cnn_block_two': 0.04059130049682902, 'dropout_dense_block_one': 0.07246336757209537, 'dropout_dense_block_two': 0.807372832562786}\n",
            "accuracy=0.9734693765640259\n",
            "{'batch_size': 140.0, 'dropout_cnn_block_one': 0.5742456250315673, 'dropout_cnn_block_three': 0.4753596244416012, 'dropout_cnn_block_two': 0.10538839151967527, 'dropout_dense_block_one': 0.8798813869208154, 'dropout_dense_block_two': 0.8662594905180258}\n",
            "accuracy=0.2829931974411011\n",
            "{'batch_size': 100.0, 'dropout_cnn_block_one': 0.008193701629087766, 'dropout_cnn_block_three': 0.5899002666136983, 'dropout_cnn_block_two': 0.010552641760038825, 'dropout_dense_block_one': 0.668068641232088, 'dropout_dense_block_two': 0.338979003493792}\n",
            "accuracy=0.963718831539154\n",
            "{'batch_size': 100.0, 'dropout_cnn_block_one': 0.013425350413457233, 'dropout_cnn_block_three': 0.633301792267533, 'dropout_cnn_block_two': 0.30013309280529504, 'dropout_dense_block_one': 0.6701463219273347, 'dropout_dense_block_two': 0.33890331773771665}\n",
            "accuracy=0.9551020264625549\n",
            "{'batch_size': 180.0, 'dropout_cnn_block_one': 0.008510276890818035, 'dropout_cnn_block_three': 0.7650816314878719, 'dropout_cnn_block_two': 0.025267537700843327, 'dropout_dense_block_one': 0.6477655915210394, 'dropout_dense_block_two': 0.342444151596783}\n",
            "accuracy=0.9501133561134338\n",
            "{'batch_size': 100.0, 'dropout_cnn_block_one': 0.459299376994398, 'dropout_cnn_block_three': 0.5724367530524523, 'dropout_cnn_block_two': 0.3189776912855919, 'dropout_dense_block_one': 0.6059921529867043, 'dropout_dense_block_two': 0.38248267515485884}\n",
            "accuracy=0.9231292605400085\n",
            "{'batch_size': 80.0, 'dropout_cnn_block_one': 0.03305621965151632, 'dropout_cnn_block_three': 0.7698790861735851, 'dropout_cnn_block_two': 0.026273935398786585, 'dropout_dense_block_one': 0.7156359666734091, 'dropout_dense_block_two': 0.21713054169443075}\n",
            "accuracy=0.9102040529251099\n",
            "{'batch_size': 160.0, 'dropout_cnn_block_one': 0.996105675498412, 'dropout_cnn_block_three': 0.5862383238368112, 'dropout_cnn_block_two': 0.4177155091372124, 'dropout_dense_block_one': 0.9565485878375717, 'dropout_dense_block_two': 0.7471967287524454}\n",
            "accuracy=0.054421767592430115\n",
            "{'batch_size': 120.0, 'dropout_cnn_block_one': 0.5610911349728308, 'dropout_cnn_block_three': 0.7326086924733605, 'dropout_cnn_block_two': 0.2657821149740398, 'dropout_dense_block_one': 0.57460701610819, 'dropout_dense_block_two': 0.45897609373566506}\n",
            "accuracy=0.43990930914878845\n",
            "{'batch_size': 180.0, 'dropout_cnn_block_one': 0.005605750540966568, 'dropout_cnn_block_three': 0.49665071821363116, 'dropout_cnn_block_two': 0.004012601162424672, 'dropout_dense_block_one': 0.7189036498056879, 'dropout_dense_block_two': 0.2508360970461367}\n",
            "accuracy=0.9616780281066895\n",
            "{'batch_size': 100.0, 'dropout_cnn_block_one': 0.16639954553080352, 'dropout_cnn_block_three': 0.41900489591466017, 'dropout_cnn_block_two': 0.09434662186342258, 'dropout_dense_block_one': 0.5597936149800518, 'dropout_dense_block_two': 0.7257965987818272}\n",
            "accuracy=0.9714285731315613\n",
            "{'batch_size': 120.0, 'dropout_cnn_block_one': 0.20758456819269433, 'dropout_cnn_block_three': 0.24805280530289547, 'dropout_cnn_block_two': 0.10149458726930358, 'dropout_dense_block_one': 0.5451783327124095, 'dropout_dense_block_two': 0.7307470762593452}\n",
            "accuracy=0.9551020264625549\n",
            "100%|██████████| 30/30 [10:22<00:00, 20.75s/it, best loss: -0.9734693765640259]\n"
          ],
          "name": "stdout"
        }
      ]
    },
    {
      "cell_type": "code",
      "metadata": {
        "id": "RW04_rws4Fuu",
        "colab_type": "code",
        "colab": {}
      },
      "source": [
        "def get_model(params):\n",
        "  return Sequential ([\n",
        "     Conv2D(filters=32, kernel_size=(3, 3), activation='relu', input_shape=input_shape),\n",
        "     Conv2D(filters=32, kernel_size=(3, 3), activation='relu', padding='same'),\n",
        "     MaxPool2D(),\n",
        "     Dropout(params['dropout_cnn_block_one']),\n",
        "\n",
        "     Conv2D(filters=64, kernel_size=(3, 3), activation='relu', padding='same'),\n",
        "     Conv2D(filters=64, kernel_size=(3, 3), activation='relu'),\n",
        "     MaxPool2D(),\n",
        "     Dropout(params['dropout_cnn_block_two']),\n",
        "\n",
        "     Conv2D(filters=128, kernel_size=(3, 3), activation='relu', padding='same'),\n",
        "     Conv2D(filters=128, kernel_size=(3, 3), activation='relu'),\n",
        "     MaxPool2D(),\n",
        "     Dropout(params['dropout_cnn_block_three']),\n",
        "\n",
        "     Flatten(),\n",
        "\n",
        "     Dense(1024, activation='relu'), \n",
        "     Dropout(params['dropout_dense_block_one']),\n",
        "\n",
        "     Dense(1024, activation='relu'), \n",
        "     Dropout(params['dropout_dense_block_two']),\n",
        "\n",
        "     Dense(num_classes, activation='softmax')\n",
        "  ])\n",
        "\n"
      ],
      "execution_count": 0,
      "outputs": []
    },
    {
      "cell_type": "code",
      "metadata": {
        "id": "kdi2eK-tYT_s",
        "colab_type": "code",
        "colab": {}
      },
      "source": [
        ""
      ],
      "execution_count": 0,
      "outputs": []
    }
  ]
}